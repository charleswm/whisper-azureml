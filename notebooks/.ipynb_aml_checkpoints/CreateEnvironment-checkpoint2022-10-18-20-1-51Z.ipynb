{
  "cells": [
    {
      "cell_type": "code",
      "source": [
        "''' Load Model '''\r\n",
        "\r\n",
        "#import required libraries for workspace\r\n",
        "from azure.ai.ml import MLClient\r\n",
        "from azure.identity import DefaultAzureCredential\r\n",
        "\r\n",
        "#import required libraries for environments examples\r\n",
        "from azure.ai.ml.entities import Environment, BuildContext\r\n",
        "from azure.ai.ml.entities import Model\r\n",
        "from azure.ai.ml.constants import ModelType\r\n",
        "\r\n",
        "\r\n",
        "#Enter details of your AzureML workspace\r\n",
        "subscription_id = 'subscription id'\r\n",
        "resource_group = 'resource group'\r\n",
        "workspace = 'workspace'\r\n",
        "\r\n",
        "#connect to the workspace\r\n",
        "ml_client = MLClient(DefaultAzureCredential(), subscription_id, resource_group, workspace)"
      ],
      "outputs": [],
      "execution_count": null,
      "metadata": {}
    },
    {
      "cell_type": "code",
      "source": [
        "\r\n",
        "file_model = Model(\r\n",
        "    path=\"model/base.en.pt\",\r\n",
        "    type=\"custom_model\",\r\n",
        "    name=\"whisper-base\",\r\n",
        "    description=\"Model created from local file.\"\r\n",
        ")\r\n",
        "ml_client.models.create_or_update(file_model)"
      ],
      "outputs": [],
      "execution_count": null,
      "metadata": {
        "jupyter": {
          "source_hidden": false,
          "outputs_hidden": false
        },
        "nteract": {
          "transient": {
            "deleting": false
          }
        }
      }
    }
  ],
  "metadata": {
    "kernelspec": {
      "name": "python38-azureml",
      "language": "python",
      "display_name": "Python 3.8 - AzureML"
    },
    "language_info": {
      "name": "python",
      "version": "3.8.5",
      "mimetype": "text/x-python",
      "codemirror_mode": {
        "name": "ipython",
        "version": 3
      },
      "pygments_lexer": "ipython3",
      "nbconvert_exporter": "python",
      "file_extension": ".py"
    },
    "kernel_info": {
      "name": "python38-azureml"
    },
    "nteract": {
      "version": "nteract-front-end@1.0.0"
    }
  },
  "nbformat": 4,
  "nbformat_minor": 2
}