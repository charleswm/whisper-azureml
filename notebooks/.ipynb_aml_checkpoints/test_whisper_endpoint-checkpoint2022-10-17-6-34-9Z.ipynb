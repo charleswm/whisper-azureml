{
  "cells": [
    {
      "cell_type": "code",
      "source": [
        "import urllib.request\r\n",
        "import requests as r\r\n",
        "\r\n",
        "import json\r\n",
        "import os\r\n",
        "import ssl\r\n",
        "import base64\r\n",
        "import mimetypes\r\n",
        "\r\n",
        "def allowSelfSignedHttps(allowed):\r\n",
        "    # bypass the server certificate verification on client side\r\n",
        "    if allowed and not os.environ.get('PYTHONHTTPSVERIFY', '') and getattr(ssl, '_create_unverified_context', None):\r\n",
        "        ssl._create_default_https_context = ssl._create_unverified_context\r\n",
        "\r\n",
        "allowSelfSignedHttps(True) # this line is needed if you use self-signed certificate in your scoring service.\r\n",
        "\r\n",
        "# Request data goes here\r\n",
        "# The example below assumes JSON formatting which may be updated\r\n",
        "# depending on the format your endpoint expects.\r\n",
        "# More information can be found here:\r\n",
        "# https://docs.microsoft.com/azure/machine-learning/how-to-deploy-advanced-entry-script\r\n",
        "\r\n",
        "url = 'https://whisper.westus2.inference.ml.azure.com/score'\r\n",
        "api_key = 'pEx1ALFISRZE60J7O7dJsbrVhS4Ban2L' # Replace this with the API key for the web service\r\n",
        "\r\n",
        "# The azureml-model-deployment header will force the request to go to a specific deployment.\r\n",
        "# Remove this header to have the request observe the endpoint traffic rules\r\n",
        "\r\n",
        "audiofile = './sample1.flac'\r\n",
        "with open(audiofile, \"rb\") as i:\r\n",
        "      b = i.read()\r\n",
        "\r\n",
        "# get mimetype\r\n",
        "content_type= mimetypes.guess_type(audiofile)[0]\r\n",
        "headers = {'Content-Type':'application/json', 'Authorization':('Bearer '+ api_key), 'azureml-model-deployment': 'blue' }\r\n",
        "\r\n",
        "#response = r.get(url, headers=headers, data=b)\r\n",
        "body= base64.b64encode(b)\r\n",
        "req = urllib.request.Request(url, body, headers)\r\n",
        "\r\n",
        "try:\r\n",
        "    response = urllib.request.urlopen(req)\r\n",
        "\r\n",
        "    result = response.read()\r\n",
        "    print(result)\r\n",
        "except urllib.error.HTTPError as error:\r\n",
        "    print(\"The request failed with status code: \" + str(error.code))\r\n",
        "\r\n",
        "    # Print the headers - they include the requert ID and the timestamp, which are useful for debugging the failure\r\n",
        "    print(error.info())\r\n",
        "    print(error.read().decode(\"utf8\", 'ignore'))\r\n"
      ],
      "outputs": [],
      "execution_count": 159,
      "metadata": {
        "jupyter": {
          "source_hidden": false,
          "outputs_hidden": false
        },
        "nteract": {
          "transient": {
            "deleting": false
          }
        },
        "gather": {
          "logged": 1668666844644
        }
      }
    },
    {
      "cell_type": "code",
      "source": [
        "body"
      ],
      "outputs": [],
      "execution_count": null,
      "metadata": {
        "jupyter": {
          "source_hidden": false,
          "outputs_hidden": false
        },
        "nteract": {
          "transient": {
            "deleting": false
          }
        },
        "gather": {
          "logged": 1668666767245
        }
      }
    },
    {
      "cell_type": "code",
      "source": [
        "import logger\r\n",
        "\r\n",
        "logging.info(body)"
      ],
      "outputs": [
        {
          "output_type": "stream",
          "name": "stdout",
          "text": "[17/Nov/2022 06:06:22] INFO - b'{\"test\": \"test\"}'\n"
        }
      ],
      "execution_count": 143,
      "metadata": {
        "jupyter": {
          "source_hidden": false,
          "outputs_hidden": false
        },
        "nteract": {
          "transient": {
            "deleting": false
          }
        },
        "gather": {
          "logged": 1668665183364
        }
      }
    },
    {
      "cell_type": "code",
      "source": [
        "response = urllib.request.urlopen(req)"
      ],
      "outputs": [],
      "execution_count": 161,
      "metadata": {
        "jupyter": {
          "source_hidden": false,
          "outputs_hidden": false
        },
        "nteract": {
          "transient": {
            "deleting": false
          }
        },
        "gather": {
          "logged": 1668666789814
        }
      }
    },
    {
      "cell_type": "code",
      "source": [
        "result = response.read()\r\n",
        "print(result)"
      ],
      "outputs": [
        {
          "output_type": "stream",
          "name": "stdout",
          "text": "b'{\"text\": \" going along slushy country roads and speaking to damp audiences in drafty school rooms day after day for a fortnight. He\\'ll have to put in an appearance at some place of worship on Sunday morning and he can come to us immediately afterwards.\"}'\n"
        }
      ],
      "execution_count": 162,
      "metadata": {
        "jupyter": {
          "source_hidden": false,
          "outputs_hidden": false
        },
        "nteract": {
          "transient": {
            "deleting": false
          }
        },
        "gather": {
          "logged": 1668666800437
        }
      }
    },
    {
      "cell_type": "code",
      "source": [
        "response.__dict__"
      ],
      "outputs": [
        {
          "output_type": "execute_result",
          "execution_count": 108,
          "data": {
            "text/plain": "{'_content': b'{\"message\": \"Input cannot be decoded as UTF-8: \\'utf-8\\' codec can\\'t decode byte 0xef in position 17: invalid continuation byte\"}',\n '_content_consumed': True,\n '_next': None,\n 'status_code': 424,\n 'headers': {'server': 'azureml-frontdoor', 'date': 'Thu, 17 Nov 2022 05:48:16 GMT', 'content-type': 'application/json', 'content-length': '127', 'x-ms-run-function-failed': 'False', 'x-ms-server-version': 'azmlinfsrv/0.7.6', 'x-ms-request-id': 'b0621597-4150-4dc3-bbf7-ee025849bcd7', 'x-request-id': 'b0621597-4150-4dc3-bbf7-ee025849bcd7', 'ms-azureml-model-error-reason': 'model_error', 'ms-azureml-model-error-statuscode': '400', 'azureml-model-deployment': 'blue'},\n 'raw': <urllib3.response.HTTPResponse at 0x7febc7de3310>,\n 'url': 'https://whisper.westus2.inference.ml.azure.com/score',\n 'encoding': 'utf-8',\n 'history': [],\n 'reason': 'Failed Dependency',\n 'cookies': <RequestsCookieJar[]>,\n 'elapsed': datetime.timedelta(microseconds=91029),\n 'request': <PreparedRequest [POST]>,\n 'connection': <requests.adapters.HTTPAdapter at 0x7febc7fcd4f0>}"
          },
          "metadata": {}
        }
      ],
      "execution_count": 108,
      "metadata": {
        "jupyter": {
          "source_hidden": false,
          "outputs_hidden": false
        },
        "nteract": {
          "transient": {
            "deleting": false
          }
        },
        "gather": {
          "logged": 1668664098430
        }
      }
    },
    {
      "cell_type": "code",
      "source": [
        "\r\n"
      ],
      "outputs": [],
      "execution_count": null,
      "metadata": {
        "jupyter": {
          "source_hidden": false,
          "outputs_hidden": false
        },
        "nteract": {
          "transient": {
            "deleting": false
          }
        }
      }
    }
  ],
  "metadata": {
    "kernelspec": {
      "name": "python38-azureml",
      "language": "python",
      "display_name": "Python 3.8 - AzureML"
    },
    "language_info": {
      "name": "python",
      "version": "3.8.5",
      "mimetype": "text/x-python",
      "codemirror_mode": {
        "name": "ipython",
        "version": 3
      },
      "pygments_lexer": "ipython3",
      "nbconvert_exporter": "python",
      "file_extension": ".py"
    },
    "kernel_info": {
      "name": "python38-azureml"
    },
    "nteract": {
      "version": "nteract-front-end@1.0.0"
    },
    "microsoft": {
      "host": {
        "AzureML": {
          "notebookHasBeenCompleted": true
        }
      }
    }
  },
  "nbformat": 4,
  "nbformat_minor": 2
}