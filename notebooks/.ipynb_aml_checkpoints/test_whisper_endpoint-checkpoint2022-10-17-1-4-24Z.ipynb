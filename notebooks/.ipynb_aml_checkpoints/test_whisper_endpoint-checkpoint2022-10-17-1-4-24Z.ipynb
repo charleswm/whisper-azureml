{
  "cells": [
    {
      "cell_type": "code",
      "source": [
        "import urllib.request\r\n",
        "import requests as r\r\n",
        "\r\n",
        "import json\r\n",
        "import os\r\n",
        "import ssl\r\n",
        "import base64\r\n",
        "import mimetypes\r\n",
        "\r\n",
        "def allowSelfSignedHttps(allowed):\r\n",
        "    # bypass the server certificate verification on client side\r\n",
        "    if allowed and not os.environ.get('PYTHONHTTPSVERIFY', '') and getattr(ssl, '_create_unverified_context', None):\r\n",
        "        ssl._create_default_https_context = ssl._create_unverified_context\r\n",
        "\r\n",
        "allowSelfSignedHttps(True) # this line is needed if you use self-signed certificate in your scoring service.\r\n",
        "\r\n",
        "# Request data goes here\r\n",
        "# The example below assumes JSON formatting which may be updated\r\n",
        "# depending on the format your endpoint expects.\r\n",
        "# More information can be found here:\r\n",
        "# https://docs.microsoft.com/azure/machine-learning/how-to-deploy-advanced-entry-script\r\n",
        "\r\n",
        "url = 'https://whisper.westus2.inference.ml.azure.com/score'\r\n",
        "api_key = 'pEx1ALFISRZE60J7O7dJsbrVhS4Ban2L' # Replace this with the API key for the web service\r\n",
        "\r\n",
        "# The azureml-model-deployment header will force the request to go to a specific deployment.\r\n",
        "# Remove this header to have the request observe the endpoint traffic rules\r\n",
        "\r\n",
        "audiofile = './sample1.flac'\r\n",
        "with open(audiofile, \"rb\") as i:\r\n",
        "      b = i.read()\r\n",
        "\r\n",
        "# get mimetype\r\n",
        "content_type= mimetypes.guess_type(audiofile)[0]\r\n",
        "headers = {'Content-Type':content_type, 'Authorization':('Bearer '+ api_key), 'azureml-model-deployment': 'blue' }\r\n",
        "\r\n",
        "response = r.post(url, headers=headers, data={\"inputs\":b})\r\n",
        "    "
      ],
      "outputs": [],
      "execution_count": 43,
      "metadata": {
        "jupyter": {
          "source_hidden": false,
          "outputs_hidden": false
        },
        "nteract": {
          "transient": {
            "deleting": false
          }
        },
        "gather": {
          "logged": 1668646414811
        }
      }
    },
    {
      "cell_type": "code",
      "source": [
        "import base64"
      ],
      "outputs": [],
      "execution_count": 46,
      "metadata": {
        "jupyter": {
          "source_hidden": false,
          "outputs_hidden": false
        },
        "nteract": {
          "transient": {
            "deleting": false
          }
        },
        "gather": {
          "logged": 1668646432917
        }
      }
    },
    {
      "cell_type": "code",
      "source": [
        "\r\n",
        "try:\r\n",
        "    response = urllib.request.urlopen(req)\r\n",
        "\r\n",
        "    result = response.read()\r\n",
        "    print(result)\r\n",
        "except urllib.error.HTTPError as error:\r\n",
        "    print(\"The request failed with status code: \" + str(error.code))\r\n",
        "\r\n",
        "    # Print the headers - they include the requert ID and the timestamp, which are useful for debugging the failure\r\n",
        "    print(error.info())\r\n",
        "    print(error.read().decode(\"utf8\", 'ignore'))"
      ],
      "outputs": [],
      "execution_count": null,
      "metadata": {
        "jupyter": {
          "source_hidden": false,
          "outputs_hidden": false
        },
        "nteract": {
          "transient": {
            "deleting": false
          }
        }
      }
    }
  ],
  "metadata": {
    "kernelspec": {
      "name": "python38-azureml",
      "language": "python",
      "display_name": "Python 3.8 - AzureML"
    },
    "language_info": {
      "name": "python",
      "version": "3.8.5",
      "mimetype": "text/x-python",
      "codemirror_mode": {
        "name": "ipython",
        "version": 3
      },
      "pygments_lexer": "ipython3",
      "nbconvert_exporter": "python",
      "file_extension": ".py"
    },
    "kernel_info": {
      "name": "python38-azureml"
    },
    "nteract": {
      "version": "nteract-front-end@1.0.0"
    },
    "microsoft": {
      "host": {
        "AzureML": {
          "notebookHasBeenCompleted": true
        }
      }
    }
  },
  "nbformat": 4,
  "nbformat_minor": 2
}