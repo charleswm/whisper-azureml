{
  "cells": [
    {
      "cell_type": "markdown",
      "metadata": {},
      "source": [
        "# Load Whisper Model and save to local Environment"
      ]
    },
    {
      "cell_type": "code",
      "execution_count": null,
      "metadata": {
        "jupyter": {
          "outputs_hidden": true,
          "source_hidden": false
        },
        "nteract": {
          "transient": {
            "deleting": false
          }
        }
      },
      "outputs": [],
      "source": [
        "! pip install git+https://github.com/openai/whisper.git"
      ]
    },
    {
      "cell_type": "code",
      "execution_count": null,
      "metadata": {
        "gather": {
          "logged": 1668801873783
        },
        "jupyter": {
          "outputs_hidden": true,
          "source_hidden": false
        },
        "nteract": {
          "transient": {
            "deleting": false
          }
        }
      },
      "outputs": [],
      "source": [
        "import whisper\n",
        "\n",
        "whisper.load_model(\"base.en\", download_root=\"./model\")"
      ]
    },
    {
      "cell_type": "markdown",
      "metadata": {},
      "source": [
        "# Connect to Azure Machine Learning Service"
      ]
    },
    {
      "cell_type": "code",
      "execution_count": null,
      "metadata": {
        "gather": {
          "logged": 1668807240945
        }
      },
      "outputs": [],
      "source": [
        "#import required libraries for workspace\n",
        "from azure.ai.ml import MLClient\n",
        "from azure.identity import DefaultAzureCredential\n",
        "\n",
        "#import required libraries for environments examples\n",
        "from azure.ai.ml.entities import Environment, BuildContext\n",
        "from azure.ai.ml.entities import Model\n",
        "from azure.ai.ml.constants import ModelType\n",
        "\n",
        "\n",
        "#Enter details of your AzureML workspace\n",
        "subscription_id = 'subscription id'\n",
        "resource_group = 'resource group'\n",
        "workspace = 'workspace'\n",
        "\n",
        "#connect to the workspace\n",
        "ml_client = MLClient(DefaultAzureCredential(), subscription_id, resource_group, workspace)\n",
        "#ml_client = MLClient.from_config(DefaultAzureCredential())"
      ]
    },
    {
      "cell_type": "markdown",
      "metadata": {},
      "source": [
        "# Save whisper Model to AzureML Model Repository"
      ]
    },
    {
      "cell_type": "code",
      "execution_count": null,
      "metadata": {
        "gather": {
          "logged": 1668807251798
        },
        "jupyter": {
          "outputs_hidden": false,
          "source_hidden": false
        },
        "nteract": {
          "transient": {
            "deleting": false
          }
        }
      },
      "outputs": [],
      "source": [
        "\n",
        "file_model = Model(\n",
        "    path=\"model/base.en.pt\",\n",
        "    type=\"custom_model\",\n",
        "    name=\"whisper-base\",\n",
        "    description=\"Model created from local file.\"\n",
        ")\n",
        "ml_client.models.create_or_update(file_model)"
      ]
    },
    {
      "cell_type": "markdown",
      "metadata": {},
      "source": [
        "# Create model deployment environment from Docker container definition"
      ]
    },
    {
      "cell_type": "code",
      "execution_count": null,
      "metadata": {
        "gather": {
          "logged": 1668807405902
        },
        "jupyter": {
          "outputs_hidden": false,
          "source_hidden": false
        },
        "nteract": {
          "transient": {
            "deleting": false
          }
        }
      },
      "outputs": [],
      "source": [
        "env_docker_context = Environment(\n",
        "    build=BuildContext(path=\"../environment\"),\n",
        "    name=\"whisper-base-env\",\n",
        "    description=\"Environment created from a Docker context.\",\n",
        ")\n",
        "ml_client.environments.create_or_update(env_docker_context)"
      ]
    },
    {
      "cell_type": "code",
      "execution_count": null,
      "metadata": {
        "jupyter": {
          "outputs_hidden": false,
          "source_hidden": false
        },
        "nteract": {
          "transient": {
            "deleting": false
          }
        }
      },
      "outputs": [],
      "source": []
    }
  ],
  "metadata": {
    "kernel_info": {
      "name": "python38-azureml"
    },
    "kernelspec": {
      "display_name": "Python 3.8.10 ('azml_py38')",
      "language": "python",
      "name": "python3"
    },
    "language_info": {
      "codemirror_mode": {
        "name": "ipython",
        "version": 3
      },
      "file_extension": ".py",
      "mimetype": "text/x-python",
      "name": "python",
      "nbconvert_exporter": "python",
      "pygments_lexer": "ipython3",
      "version": "3.8.10"
    },
    "microsoft": {
      "host": {
        "AzureML": {
          "notebookHasBeenCompleted": true
        }
      }
    },
    "nteract": {
      "version": "nteract-front-end@1.0.0"
    },
    "vscode": {
      "interpreter": {
        "hash": "c05a5699f0acbfa4d111e4ed5b7e4b2be40df071af7bfa2e01858e66a1d16586"
      }
    }
  },
  "nbformat": 4,
  "nbformat_minor": 2
}
